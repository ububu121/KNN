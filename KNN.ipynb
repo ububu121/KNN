{
  "nbformat": 4,
  "nbformat_minor": 0,
  "metadata": {
    "colab": {
      "provenance": [],
      "authorship_tag": "ABX9TyMnKnx+arsWpvxR0KkVmO8U",
      "include_colab_link": true
    },
    "kernelspec": {
      "name": "python3",
      "display_name": "Python 3"
    },
    "language_info": {
      "name": "python"
    }
  },
  "cells": [
    {
      "cell_type": "markdown",
      "metadata": {
        "id": "view-in-github",
        "colab_type": "text"
      },
      "source": [
        "<a href=\"https://colab.research.google.com/github/ububu121/KNN/blob/main/KNN.ipynb\" target=\"_parent\"><img src=\"https://colab.research.google.com/assets/colab-badge.svg\" alt=\"Open In Colab\"/></a>"
      ]
    },
    {
      "cell_type": "code",
      "execution_count": 70,
      "metadata": {
        "id": "ndpJGHXeMEGJ"
      },
      "outputs": [],
      "source": [
        "import matplotlib.pyplot as plt\n",
        "from sklearn.datasets import load_digits\n",
        "from sklearn.model_selection import GridSearchCV\n",
        "from sklearn.neighbors import KNeighborsClassifier\n",
        "from sklearn.model_selection import train_test_split"
      ]
    },
    {
      "cell_type": "code",
      "source": [
        "digits = load_digits()\n",
        "X = digits.images.reshape((len(digits.images), -1))\n",
        "y = digits.target\n"
      ],
      "metadata": {
        "id": "aNqMlfZhMwtN"
      },
      "execution_count": 71,
      "outputs": []
    },
    {
      "cell_type": "code",
      "source": [
        "X_train, X_test, y_train, y_test = train_test_split(X, y, test_size=0.2, random_state=42, stratify=y)"
      ],
      "metadata": {
        "id": "50fQ7a1LQZkz"
      },
      "execution_count": 72,
      "outputs": []
    },
    {
      "cell_type": "code",
      "source": [
        "parameters = {\n",
        "    'n_neighbors': [3, 5, 7, 9, 11],\n",
        "    'weights': ['uniform', 'distance'],\n",
        "    'p': [1, 2]\n",
        "}"
      ],
      "metadata": {
        "id": "DdFjBGOzQns3"
      },
      "execution_count": 73,
      "outputs": []
    },
    {
      "cell_type": "code",
      "source": [
        "knn = KNeighborsClassifier()\n",
        "grid_search = GridSearchCV(knn, parameters, cv=5, scoring='accuracy')\n",
        "grid_search.fit(X_train, y_train)\n"
      ],
      "metadata": {
        "id": "-mA-pGBDQt1W"
      },
      "execution_count": null,
      "outputs": []
    },
    {
      "cell_type": "code",
      "source": [
        "print(grid_search.best_params_)\n",
        "print('accuracy:{:0.4f}'.format(grid_search.best_score_))"
      ],
      "metadata": {
        "colab": {
          "base_uri": "https://localhost:8080/"
        },
        "id": "pu2ZyyXrQ3J1",
        "outputId": "3428705c-320b-4c5b-e425-0ed8937646fb"
      },
      "execution_count": 75,
      "outputs": [
        {
          "output_type": "stream",
          "name": "stdout",
          "text": [
            "{'n_neighbors': 3, 'p': 2, 'weights': 'uniform'}\n",
            "accuracy:0.9882\n"
          ]
        }
      ]
    },
    {
      "cell_type": "code",
      "source": [
        "knn_best = KNeighborsClassifier(**grid_search.best_params_)\n",
        "knn_best.fit(X_train, y_train)"
      ],
      "metadata": {
        "id": "22GBHm1WRA0Z"
      },
      "execution_count": null,
      "outputs": []
    },
    {
      "cell_type": "code",
      "source": [
        "test_image_index = 180\n",
        "test_image = X_test[test_image_index]\n",
        "test_image_label = y_test[test_image_index]\n",
        "test_image_pred = knn_best.predict(test_image.reshape(1, -1))\n",
        "\n",
        "plt.imshow(test_image.reshape(8, 8), cmap='autumn')\n",
        "plt.title(f\"True label: {test_image_label}, Predicted label: {test_image_pred[0]}\")\n",
        "plt.show()"
      ],
      "metadata": {
        "colab": {
          "base_uri": "https://localhost:8080/",
          "height": 452
        },
        "id": "NqVy6_0sRnkf",
        "outputId": "1c1fa7fb-bc85-468d-9582-af41e7a0ccc0"
      },
      "execution_count": 78,
      "outputs": [
        {
          "output_type": "display_data",
          "data": {
            "text/plain": [
              "<Figure size 640x480 with 1 Axes>"
            ],
            "image/png": "[encoded data removed]"
          },
          "metadata": {}
        }
      ]
    },
    {
      "cell_type": "code",
      "source": [
        "predictions = knn_best.predict(X_test)\n",
        "from sklearn.metrics import accuracy_score\n",
        "print('Точность предсказания:{:0.3f}'.format(accuracy_score(y_test, predictions)))\n"
      ],
      "metadata": {
        "colab": {
          "base_uri": "https://localhost:8080/"
        },
        "id": "FBt67sybjwp-",
        "outputId": "150f3f46-aa41-49ba-c9b1-b90119a2cc30"
      },
      "execution_count": 86,
      "outputs": [
        {
          "output_type": "stream",
          "name": "stdout",
          "text": [
            "Точность предсказания:0.986\n"
          ]
        }
      ]
    }
  ]
}